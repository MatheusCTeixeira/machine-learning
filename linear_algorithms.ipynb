{
 "cells": [
  {
   "cell_type": "code",
   "execution_count": 1,
   "id": "37f5aa62",
   "metadata": {},
   "outputs": [],
   "source": [
    "import seaborn as sns\n",
    "import numpy as np\n",
    "from numpy.random import Generator, PCG64\n",
    "import pandas as pd\n",
    "from sklearn import linear_model\n",
    "import matplotlib.pyplot as plt"
   ]
  },
  {
   "cell_type": "code",
   "execution_count": 2,
   "id": "0c340040",
   "metadata": {},
   "outputs": [],
   "source": [
    "rng = Generator(PCG64())"
   ]
  },
  {
   "cell_type": "markdown",
   "id": "05fece61",
   "metadata": {},
   "source": [
    "# Generate test data to highlight algorithms behavior"
   ]
  },
  {
   "cell_type": "code",
   "execution_count": 3,
   "id": "0d553679",
   "metadata": {},
   "outputs": [],
   "source": [
    "X = np.linspace(0, 10, 50)\n",
    "w = 1.2\n",
    "Y = w * X - 4 * np.sin(rng.random(50))\n",
    "df = pd.DataFrame(data={\"x\": X, \"y\": Y})"
   ]
  },
  {
   "cell_type": "code",
   "execution_count": 4,
   "id": "e97978fa",
   "metadata": {},
   "outputs": [
    {
     "data": {
      "text/plain": [
       "<AxesSubplot:xlabel='x', ylabel='y'>"
      ]
     },
     "execution_count": 4,
     "metadata": {},
     "output_type": "execute_result"
    },
    {
     "data": {
      "image/png": "[encoded data removed]",
      "text/plain": [
       "<Figure size 432x288 with 1 Axes>"
      ]
     },
     "metadata": {
      "needs_background": "light"
     },
     "output_type": "display_data"
    }
   ],
   "source": [
    "\n",
    "sns.scatterplot(data=df, x=\"x\", y=\"y\")"
   ]
  },
  {
   "cell_type": "markdown",
   "id": "7e16ad5e",
   "metadata": {},
   "source": [
    "# Linear Model"
   ]
  },
  {
   "cell_type": "code",
   "execution_count": 5,
   "id": "ededfb7b",
   "metadata": {},
   "outputs": [],
   "source": [
    "reg = linear_model.LinearRegression()"
   ]
  },
  {
   "cell_type": "code",
   "execution_count": 6,
   "id": "47c46a78",
   "metadata": {},
   "outputs": [
    {
     "data": {
      "text/plain": [
       "LinearRegression()"
      ]
     },
     "execution_count": 6,
     "metadata": {},
     "output_type": "execute_result"
    }
   ],
   "source": [
    "XY = np.stack((X, Y), axis=1)\n",
    "reg.fit(X.reshape(-1, 1), Y)"
   ]
  },
  {
   "cell_type": "code",
   "execution_count": 7,
   "id": "96c0922d",
   "metadata": {},
   "outputs": [
    {
     "name": "stdout",
     "output_type": "stream",
     "text": [
      "coeficient = [1.15278484] and constant = -1.6090365423402213\n"
     ]
    }
   ],
   "source": [
    "ŵ = reg.coef_\n",
    "b = reg.intercept_\n",
    "print(f\"coeficient = {ŵ} and constant = {b}\")"
   ]
  },
  {
   "cell_type": "code",
   "execution_count": 8,
   "id": "87bde909",
   "metadata": {},
   "outputs": [],
   "source": [
    "x = np.linspace(0, 10, 10)\n",
    "y = ŵ * x + b"
   ]
  },
  {
   "cell_type": "code",
   "execution_count": 9,
   "id": "f374d704",
   "metadata": {},
   "outputs": [
    {
     "data": {
      "text/plain": [
       "[<matplotlib.lines.Line2D at 0x7f191ab8c940>]"
      ]
     },
     "execution_count": 9,
     "metadata": {},
     "output_type": "execute_result"
    },
    {
     "data": {
      "image/png": "[encoded data removed]",
      "text/plain": [
       "<Figure size 432x288 with 1 Axes>"
      ]
     },
     "metadata": {
      "needs_background": "light"
     },
     "output_type": "display_data"
    }
   ],
   "source": [
    "sns.scatterplot(data=df, x=\"x\", y=\"y\")\n",
    "plt.plot(x, y, color=\"red\")"
   ]
  },
  {
   "cell_type": "markdown",
   "id": "4f8245a2",
   "metadata": {},
   "source": [
    "# Ridge\n",
    "\n",
    "This method adopt a penalty over the size of weight of the coefficients. This helps in avoid overfitting."
   ]
  },
  {
   "cell_type": "code",
   "execution_count": 10,
   "id": "585dd424",
   "metadata": {},
   "outputs": [
    {
     "data": {
      "text/plain": [
       "Ridge()"
      ]
     },
     "execution_count": 10,
     "metadata": {},
     "output_type": "execute_result"
    }
   ],
   "source": [
    "reg_ridge = linear_model.Ridge()\n",
    "reg_ridge.fit(X.reshape(-1, 1), Y)"
   ]
  },
  {
   "cell_type": "code",
   "execution_count": 11,
   "id": "726a2d6b",
   "metadata": {},
   "outputs": [],
   "source": [
    "ŵ_ridge, b_ridge = reg_ridge.coef_, reg_ridge.intercept_ # Parameters of regression"
   ]
  },
  {
   "cell_type": "code",
   "execution_count": 12,
   "id": "ae82eb65",
   "metadata": {},
   "outputs": [],
   "source": [
    "y_ridge = ŵ_ridge * x + b_ridge"
   ]
  },
  {
   "cell_type": "code",
   "execution_count": 13,
   "id": "ac5a6441",
   "metadata": {},
   "outputs": [
    {
     "data": {
      "text/plain": [
       "[<matplotlib.lines.Line2D at 0x7f1918afd940>]"
      ]
     },
     "execution_count": 13,
     "metadata": {},
     "output_type": "execute_result"
    },
    {
     "data": {
      "image/png": "[encoded data removed]",
      "text/plain": [
       "<Figure size 432x288 with 1 Axes>"
      ]
     },
     "metadata": {
      "needs_background": "light"
     },
     "output_type": "display_data"
    }
   ],
   "source": [
    "sns.scatterplot(data=df, x=\"x\", y=\"y\")\n",
    "plt.plot(x, y, color=\"red\")\n",
    "plt.plot(x, y_ridge, color=\"black\")"
   ]
  }
 ],
 "metadata": {
  "kernelspec": {
   "display_name": "Python 3 (ipykernel)",
   "language": "python",
   "name": "python3"
  },
  "language_info": {
   "codemirror_mode": {
    "name": "ipython",
    "version": 3
   },
   "file_extension": ".py",
   "mimetype": "text/x-python",
   "name": "python",
   "nbconvert_exporter": "python",
   "pygments_lexer": "ipython3",
   "version": "3.9.4"
  }
 },
 "nbformat": 4,
 "nbformat_minor": 5
}
